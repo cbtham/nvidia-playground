{
 "cells": [
  {
   "cell_type": "markdown",
   "metadata": {
    "id": "Ag6Z0m8VR5qo"
   },
   "source": [
    "**Install Nvidia Llamma SDK for Python**"
   ]
  },
  {
   "cell_type": "code",
   "execution_count": 64,
   "metadata": {
    "executionInfo": {
     "elapsed": 3808,
     "status": "ok",
     "timestamp": 1733077785138,
     "user": {
      "displayName": "ChengBin Tham",
      "userId": "08449567597338969254"
     },
     "user_tz": -480
    },
    "id": "bJ4fyWFVMtOn"
   },
   "outputs": [],
   "source": [
    "!pip install --upgrade --quiet llama-index-llms-nvidia llama-index-embeddings-nvidia"
   ]
  },
  {
   "cell_type": "markdown",
   "metadata": {
    "id": "VevLOJzESS3N"
   },
   "source": [
    "**Initialize the environment with Nvidia API Key**"
   ]
  },
  {
   "cell_type": "code",
   "execution_count": 65,
   "metadata": {
    "colab": {
     "base_uri": "https://localhost:8080/"
    },
    "executionInfo": {
     "elapsed": 326,
     "status": "ok",
     "timestamp": 1733077788973,
     "user": {
      "displayName": "ChengBin Tham",
      "userId": "08449567597338969254"
     },
     "user_tz": -480
    },
    "id": "YXrlZfO-PdZP",
    "outputId": "8d539e00-d184-4605-c4f1-0f2216376ee3"
   },
   "outputs": [
    {
     "name": "stdout",
     "output_type": "stream",
     "text": [
      "Valid NVIDIA_API_KEY already in environment. Delete to reset\n"
     ]
    }
   ],
   "source": [
    "import getpass\n",
    "import os\n",
    "\n",
    "#del os.environ['NVIDIA_API_KEY']  ## delete key and reset\n",
    "if os.environ.get(\"NVIDIA_API_KEY\", \"\").startswith(\"nvapi-\"):\n",
    "    print(\"Valid NVIDIA_API_KEY already in environment. Delete to reset\")\n",
    "else:\n",
    "    nvapi_key = getpass.getpass(\"NVAPI Key (starts with nvapi-): \")\n",
    "    assert nvapi_key.startswith(\n",
    "        \"nvapi-\"\n",
    "    ), f\"{nvapi_key[:5]}... is not a valid key\"\n",
    "    os.environ[\"NVIDIA_API_KEY\"] = nvapi_key"
   ]
  },
  {
   "cell_type": "markdown",
   "metadata": {
    "id": "bv030X6pVJZ0"
   },
   "source": [
    "**Trying out the Nvidia Foundational AI API Endpoint**"
   ]
  },
  {
   "cell_type": "code",
   "execution_count": 66,
   "metadata": {
    "colab": {
     "base_uri": "https://localhost:8080/"
    },
    "executionInfo": {
     "elapsed": 2150,
     "status": "ok",
     "timestamp": 1733077792640,
     "user": {
      "displayName": "ChengBin Tham",
      "userId": "08449567597338969254"
     },
     "user_tz": -480
    },
    "id": "ulTlaeJaTziO",
    "outputId": "4e2c37d9-9fb0-4f2c-80a3-43b169c37fa9"
   },
   "outputs": [
    {
     "name": "stdout",
     "output_type": "stream",
     "text": [
      "The current exchange rate of USD to SGD (United States Dollar to Singapore Dollar) can fluctuate constantly, so I'll provide you with the latest rate as of my knowledge cutoff. Please note that exchange rates may change rapidly and may not reflect the current rate.\n",
      "\n",
      "As of [insert current date], the exchange rate is approximately:\n",
      "\n",
      "1 USD = 1.37 SGD\n",
      "\n",
      "Please note that this rate is subject to change and may not reflect the current rate. I recommend checking with a reliable currency conversion website or a financial institution for the most up-to-date exchange rate.\n",
      "\n",
      "Here are some reliable sources to check the current exchange rate:\n",
      "\n",
      "1. XE.com: A popular online currency conversion website that provides real-time exchange rates.\n",
      "2. Google Currency Converter: A built-in currency converter in Google search that provides real-time exchange rates.\n",
      "3. Singapore Exchange (SGX): The official website of the Singapore Exchange provides exchange rates for various currencies, including USD to SGD.\n",
      "4. Your local bank or financial institution: You can also check with your local bank or financial institution for the current exchange rate.\n",
      "\n",
      "Remember to always verify the exchange rate before making any transactions or conversions.\n"
     ]
    }
   ],
   "source": [
    "# Import the OpenAI module from the openai package\n",
    "from openai import OpenAI\n",
    "\n",
    "# Create an instance of the OpenAI client, configuring it to interact with NVIDIA's API\n",
    "client = OpenAI(\n",
    "  base_url = \"https://integrate.api.nvidia.com/v1\",  # Set the base URL for NVIDIA's API\n",
    "  api_key = nvapi_key\n",
    ")\n",
    "\n",
    "def ask_question(user_input):\n",
    "  # Create a chat completion request using the specified model and parameters\n",
    "  chat_response = client.chat.completions.create(\n",
    "  model=\"meta/llama3-8b-instruct\",  # Specify the model to use for generating the completion\n",
    "  messages=[{\"role\":\"user\",\"content\":user_input}],  # Provide the prompt to the model\n",
    "  temperature=0.5,  # Set the temperature for the generation to control randomness (0.5 is moderate)\n",
    "  top_p=1,  # Use nucleus sampling with top-p set to 1, meaning no filtering by cumulative probability\n",
    "  max_tokens=1024,  # Limit the response to a maximum of 1024 tokens\n",
    "  stream=False  # Enable streaming to receive the response in chunks\n",
    "  )\n",
    "  return chat_response.choices[0].message.content  # Extract and return the generated response text\n",
    "\n",
    "completion = ask_question(\"what's the current exchange rate of USD to SGD?\")\n",
    "\n",
    "print(completion)"
   ]
  },
  {
   "cell_type": "markdown",
   "metadata": {
    "id": "fOvA90KdVVO6"
   },
   "source": [
    "**Improving the LLM**\n",
    "\n",
    "Here, we try out Nvidia's API for llama AI model and to ensure we can access NVIDIA AI Foundation Endpoints through the OpenAI package. We can seamlessly leverage NVIDIA’s AI capabilities and integrate into our chat later on.\n",
    "\n",
    "The model is smart enough to provide alternative ways to get the exchange rate instead of confidently response with a number (hallucination). However, it is generally better to provide the exchange rate right away to the user.\n",
    "\n",
    "This is where function calling feature comes in. With function calling feature, you can create a tool that can retrieve latest exchange rate for the agent. You will do that in the following sections.\n",
    "\n",
    "Firstly, let's create a function that can get the current exchange rate using the API."
   ]
  },
  {
   "cell_type": "markdown",
   "metadata": {
    "id": "DGvlfux9S-LI"
   },
   "source": [
    "**Import the required module**"
   ]
  },
  {
   "cell_type": "code",
   "execution_count": 67,
   "metadata": {
    "executionInfo": {
     "elapsed": 306,
     "status": "ok",
     "timestamp": 1733077796284,
     "user": {
      "displayName": "ChengBin Tham",
      "userId": "08449567597338969254"
     },
     "user_tz": -480
    },
    "id": "cwHGawa5NLxO"
   },
   "outputs": [],
   "source": [
    "from llama_index.llms.nvidia import NVIDIA\n",
    "from llama_index.core.tools import FunctionTool\n",
    "from llama_index.embeddings.nvidia import NVIDIAEmbedding"
   ]
  },
  {
   "cell_type": "markdown",
   "metadata": {
    "id": "xyp3PiP4Skvb"
   },
   "source": [
    "**Create a function to call Currency Exchange API in real time**"
   ]
  },
  {
   "cell_type": "code",
   "execution_count": 68,
   "metadata": {
    "colab": {
     "base_uri": "https://localhost:8080/"
    },
    "executionInfo": {
     "elapsed": 973,
     "status": "ok",
     "timestamp": 1733077798531,
     "user": {
      "displayName": "ChengBin Tham",
      "userId": "08449567597338969254"
     },
     "user_tz": -480
    },
    "id": "KUl_RC3gNhIn",
    "outputId": "519b6dca-b434-428d-da78-1760ae81f144"
   },
   "outputs": [
    {
     "data": {
      "text/plain": [
       "{'status_code': 200,\n",
       " 'data': {'base': 'USD',\n",
       "  'target': 'SGD',\n",
       "  'mid': 1.33945,\n",
       "  'unit': 1,\n",
       "  'timestamp': '2024-12-01T00:00:26.330Z'}}"
      ]
     },
     "execution_count": 68,
     "metadata": {},
     "output_type": "execute_result"
    }
   ],
   "source": [
    "import requests\n",
    "# define a function to get exchange rate\n",
    "def get_fx_rate(base_currency: str, target_currency: str):\n",
    "    \"\"\"\n",
    "    Fetches the current exchange rate between two currencies.\n",
    "\n",
    "    Args:\n",
    "        base_currency: The base currency (e.g., \"USD\").\n",
    "        target_currency: The target currency (e.g., \"SGD\").\n",
    "\n",
    "    Returns:\n",
    "        The exchange rate information as a json response,\n",
    "        or None if the rate could not be fetched.\n",
    "    \"\"\"\n",
    "\n",
    "    url = f\"https://hexarate.paikama.co/api/rates/latest/{base_currency}?target={target_currency}\"\n",
    "    response = requests.get(url)\n",
    "    if response.status_code == 200:\n",
    "        return response.json()\n",
    "\n",
    "\n",
    "# test the function\n",
    "get_fx_rate(\"USD\", \"SGD\")"
   ]
  },
  {
   "cell_type": "markdown",
   "metadata": {
    "id": "4BJxet0bWsNm"
   },
   "source": [
    "The function is working as intented. Next we craete a Tool and we can attach the function to it so the agent can use it."
   ]
  },
  {
   "cell_type": "code",
   "execution_count": 69,
   "metadata": {
    "executionInfo": {
     "elapsed": 319,
     "status": "ok",
     "timestamp": 1733077800930,
     "user": {
      "displayName": "ChengBin Tham",
      "userId": "08449567597338969254"
     },
     "user_tz": -480
    },
    "id": "GqKtm58kWa5B"
   },
   "outputs": [],
   "source": [
    "convert_tool = FunctionTool.from_defaults(fn=get_fx_rate)"
   ]
  },
  {
   "cell_type": "markdown",
   "metadata": {
    "id": "cF_zAyFKW5om"
   },
   "source": [
    "Now, you are ready to create an agent with a tool that has access to the function to retrive currency exchange rate."
   ]
  },
  {
   "cell_type": "markdown",
   "metadata": {
    "id": "j0D6yQsUadzO"
   },
   "source": [
    "Before we create the agent, we also want to add some simple math functions."
   ]
  },
  {
   "cell_type": "markdown",
   "metadata": {
    "id": "1jO9wSuka6KL"
   },
   "source": [
    "*Addition function*"
   ]
  },
  {
   "cell_type": "code",
   "execution_count": 70,
   "metadata": {
    "executionInfo": {
     "elapsed": 321,
     "status": "ok",
     "timestamp": 1733077802542,
     "user": {
      "displayName": "ChengBin Tham",
      "userId": "08449567597338969254"
     },
     "user_tz": -480
    },
    "id": "smbE-J-VZJ7E"
   },
   "outputs": [],
   "source": [
    "def add(a: int, b: int) -> int:\n",
    "    \"\"\"Add two integers and returns the result integer\"\"\"\n",
    "    return a + b\n",
    "add_tool = FunctionTool.from_defaults(fn=add)"
   ]
  },
  {
   "cell_type": "markdown",
   "metadata": {
    "id": "wbbBtUg2a9b2"
   },
   "source": [
    "*Multiplication function*"
   ]
  },
  {
   "cell_type": "code",
   "execution_count": 71,
   "metadata": {
    "executionInfo": {
     "elapsed": 288,
     "status": "ok",
     "timestamp": 1733077804092,
     "user": {
      "displayName": "ChengBin Tham",
      "userId": "08449567597338969254"
     },
     "user_tz": -480
    },
    "id": "usbeVDhdaDBA"
   },
   "outputs": [],
   "source": [
    "def multiply(a: int, b: int) -> int:\n",
    "    \"\"\"Multiple two integers and returns the result integer\"\"\"\n",
    "    return a * b\n",
    "multiply_tool = FunctionTool.from_defaults(fn=multiply)"
   ]
  },
  {
   "cell_type": "markdown",
   "metadata": {
    "id": "m8toW_XYe8VI"
   },
   "source": [
    "Now, you are truely ready to create an agent with a set of tools to do meaningful currency conversion."
   ]
  },
  {
   "cell_type": "markdown",
   "metadata": {
    "id": "xcSOm5CmTPvp"
   },
   "source": [
    "**Building the agent to call external API for current rate checking.**"
   ]
  },
  {
   "cell_type": "markdown",
   "metadata": {
    "id": "z_M4HdDjbk-C"
   },
   "source": [
    "Firstly we define an LLM model for the agent to use. This can be anything. You can use the agent list to show all available models to use. In our example we will just stick to a basic smaller language model."
   ]
  },
  {
   "cell_type": "code",
   "execution_count": 72,
   "metadata": {
    "executionInfo": {
     "elapsed": 3,
     "status": "ok",
     "timestamp": 1733077805311,
     "user": {
      "displayName": "ChengBin Tham",
      "userId": "08449567597338969254"
     },
     "user_tz": -480
    },
    "id": "bOgH8sSlN4Pp"
   },
   "outputs": [],
   "source": [
    "llm = NVIDIA(\"meta/llama-3.1-8b-instruct\")"
   ]
  },
  {
   "cell_type": "code",
   "execution_count": 73,
   "metadata": {
    "executionInfo": {
     "elapsed": 281,
     "status": "ok",
     "timestamp": 1733077806988,
     "user": {
      "displayName": "ChengBin Tham",
      "userId": "08449567597338969254"
     },
     "user_tz": -480
    },
    "id": "k4BVfSJ4OGkU"
   },
   "outputs": [],
   "source": [
    "from llama_index.core.agent import FunctionCallingAgent\n",
    "\n",
    "agent = FunctionCallingAgent.from_tools(\n",
    "    [convert_tool, add_tool, multiply_tool],\n",
    "    llm=llm,\n",
    "    verbose=True,\n",
    ")"
   ]
  },
  {
   "cell_type": "code",
   "execution_count": 74,
   "metadata": {
    "colab": {
     "base_uri": "https://localhost:8080/"
    },
    "executionInfo": {
     "elapsed": 14221,
     "status": "ok",
     "timestamp": 1733077822357,
     "user": {
      "displayName": "ChengBin Tham",
      "userId": "08449567597338969254"
     },
     "user_tz": -480
    },
    "id": "qiOkSO2eRQm8",
    "outputId": "99cc1aef-805c-4f41-cc4a-d563408dea0a"
   },
   "outputs": [
    {
     "name": "stdout",
     "output_type": "stream",
     "text": [
      "> Running step 7dec0cbe-e0e1-4c4a-b701-37933e4bd363. Step input: What's the current exchange rate of USD to SGD?\n",
      "Added user message to memory: What's the current exchange rate of USD to SGD?\n",
      "=== Calling Function ===\n",
      "Calling function: get_fx_rate with args: {\"base_currency\": \"USD\", \"target_currency\": \"SGD\"}\n",
      "=== Function Output ===\n",
      "{'status_code': 200, 'data': {'base': 'USD', 'target': 'SGD', 'mid': 1.33945, 'unit': 1, 'timestamp': '2024-12-01T00:00:26.330Z'}}\n",
      "> Running step 37f82287-ce4e-4c12-9dec-eebebbb9ecba. Step input: None\n",
      "=== LLM Response ===\n",
      "The current exchange rate of USD to SGD is 1.33945.\n",
      "The current exchange rate of USD to SGD is 1.33945.\n"
     ]
    }
   ],
   "source": [
    "response = agent.chat(\"What's the current exchange rate of USD to SGD?\")\n",
    "print(str(response))"
   ]
  },
  {
   "cell_type": "markdown",
   "metadata": {
    "id": "IWL9ewsoTjUV"
   },
   "source": [
    "Here we can see that the response is different from the initially calling the base foundational model endpoint. The agent is now returning a function call response."
   ]
  },
  {
   "cell_type": "markdown",
   "metadata": {
    "id": "B3oz9-sYfZg6"
   },
   "source": [
    "**Agent with ReAct - Reasoning and Action**"
   ]
  },
  {
   "cell_type": "markdown",
   "metadata": {
    "id": "AjRCP8b7fgfU"
   },
   "source": [
    "ReAct, short for \"Reasoning and Acting,\" is a framework designed to enhance the capabilities of large language models (LLMs) by combining reasoning and action planning. This approach allows LLMs to generate reasoning traces and task-specific actions in an interleaved manner. Essentially, ReAct enables the model to think through a problem, plan actions, and interact with external sources to gather additional information"
   ]
  },
  {
   "cell_type": "code",
   "execution_count": 75,
   "metadata": {
    "executionInfo": {
     "elapsed": 306,
     "status": "ok",
     "timestamp": 1733077826256,
     "user": {
      "displayName": "ChengBin Tham",
      "userId": "08449567597338969254"
     },
     "user_tz": -480
    },
    "id": "tjUtwtqdX-B_"
   },
   "outputs": [],
   "source": [
    "from llama_index.core.agent import ReActAgent"
   ]
  },
  {
   "cell_type": "code",
   "execution_count": 76,
   "metadata": {
    "executionInfo": {
     "elapsed": 4,
     "status": "ok",
     "timestamp": 1733077827550,
     "user": {
      "displayName": "ChengBin Tham",
      "userId": "08449567597338969254"
     },
     "user_tz": -480
    },
    "id": "uINX-3DCYBAK"
   },
   "outputs": [],
   "source": [
    "agent = ReActAgent.from_tools([convert_tool, add_tool, multiply_tool], llm=llm, verbose=True)"
   ]
  },
  {
   "cell_type": "code",
   "execution_count": 77,
   "metadata": {
    "colab": {
     "base_uri": "https://localhost:8080/"
    },
    "executionInfo": {
     "elapsed": 4285,
     "status": "ok",
     "timestamp": 1733077842035,
     "user": {
      "displayName": "ChengBin Tham",
      "userId": "08449567597338969254"
     },
     "user_tz": -480
    },
    "id": "Ei9Ejr5XYKS8",
    "outputId": "9008fd95-955f-4667-c206-0e28d5bf0b05"
   },
   "outputs": [
    {
     "name": "stdout",
     "output_type": "stream",
     "text": [
      "> Running step efe875e3-b81d-45bb-9426-caf4a4c800a7. Step input: I have 100 in my wallet, my wife gave me 30 just now. What is the total I can convert from SGD to USD Do it step by step\n",
      "\u001b[1;3;38;5;200mThought: The current language of the user is: English. I need to use a tool to help me answer the question.\n",
      "Action: add\n",
      "Action Input: {'a': 100, 'b': 30}\n",
      "\u001b[0m\u001b[1;3;34mObservation: 130\n",
      "\u001b[0m> Running step 23cd4137-884c-4ddb-8809-a12a26cad21f. Step input: None\n",
      "\u001b[1;3;38;5;200mThought: I need to get the current exchange rate between SGD and USD to convert the total amount from SGD to USD.\n",
      "Action: get_fx_rate\n",
      "Action Input: {'base_currency': 'SGD', 'target_currency': 'USD'}\n",
      "\u001b[0m\u001b[1;3;34mObservation: {'status_code': 200, 'data': {'base': 'SGD', 'target': 'USD', 'mid': 0.746575, 'unit': 1, 'timestamp': '2024-12-01T00:01:26.548Z'}}\n",
      "\u001b[0m> Running step 7fa91382-5cb7-408e-a90c-8ef1955dedca. Step input: None\n",
      "\u001b[1;3;38;5;200mThought: I have the current exchange rate, now I need to use it to convert the total amount from SGD to USD.\n",
      "Action: multiply\n",
      "Action Input: {'a': 130, 'b': 0.746575}\n",
      "\u001b[0m\u001b[1;3;34mObservation: 97.05475\n",
      "\u001b[0m> Running step cc12ed53-f76e-4dca-9de5-5f8494897c99. Step input: None\n",
      "\u001b[1;3;38;5;200mThought: I can answer without using any more tools. I'll use the user's language to answer\n",
      "Answer: You can convert approximately 97.05 USD from SGD.\n",
      "\u001b[0m"
     ]
    }
   ],
   "source": [
    "response = agent.chat(\"I have 100 in my wallet, my wife gave me 30 just now. What is the total I can convert from SGD to USD Do it step by step\")"
   ]
  },
  {
   "cell_type": "markdown",
   "metadata": {
    "id": "nmk6bRQyf3Q2"
   },
   "source": [
    "By integrating reasoning and acting, ReAct helps LLMs to:\n",
    "\n",
    "\n",
    "*   Induce, track, and update action plans: The model can create and adjust plans based on the reasoning process.\n",
    "\n",
    "*   Handle exceptions: It can manage unexpected situations by reasoning through them.\n",
    "\n",
    "*   Interface with external sources: The model can gather information from knowledge bases or environments to support its reasoning\n",
    "\n",
    "\n",
    "\n",
    "\n",
    "\n"
   ]
  },
  {
   "cell_type": "markdown",
   "metadata": {
    "id": "5nA8wSMZgL5A"
   },
   "source": [
    "This synergy between reasoning and acting improves the model's performance on various tasks, such as question answering and decision-making, and enhances human interpretability, trustworthines.\n",
    "\n",
    "In our example, by introducing function calling, we are able to get information real time and supplement it to our LLM to return a response from a user. We then further enchance it but introducing agent giving it ability to use Tools. Lastly by giving the agent ability to reason, we can make it more human like."
   ]
  },
  {
   "cell_type": "markdown",
   "metadata": {
    "id": "zg9pwawfhCRg"
   },
   "source": [
    "**Enhancements**\n",
    "\n",
    "1. Introduce trip planner agent that can come up with itinerary and budget.\n",
    "2. Pair the agent to this example to calculate a budget based on local currency.\n",
    "3. Deploy in a cloud container environement."
   ]
  }
 ],
 "metadata": {
  "colab": {
   "authorship_tag": "ABX9TyOS0C90AEUSHciqx3iCKj9M",
   "provenance": []
  },
  "kernelspec": {
   "display_name": "Python 3",
   "name": "python3"
  },
  "language_info": {
   "name": "python"
  }
 },
 "nbformat": 4,
 "nbformat_minor": 0
}
